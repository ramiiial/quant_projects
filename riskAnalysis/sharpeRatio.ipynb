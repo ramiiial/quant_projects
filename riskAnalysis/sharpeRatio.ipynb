{
 "cells": [
  {
   "cell_type": "markdown",
   "metadata": {},
   "source": [
    "How To Use The Sharpe Ratio For Risk-Adjusted Returns\n",
    "\n",
    "The Sharpe ratio tells you the “risk-adjusted” return of an investment. In other words, “how much return do you get for every unit of risk you take.” It’s a great way to compare strategies because it normalizes their returns by risk.\n",
    "\n",
    "If you’re investing or trading, you might want to consider the Sharpe ratio as one of your performance metrics.\n",
    "\n",
    "Without Considering The Sharpe Ratio, You Miss Important Information About The Performance. Here’s an example:\n",
    "\n",
    "    Stock A returned 20%\n",
    "    Stock B returned 25%\n",
    "\n",
    "Which is the better investment?\n",
    "\n",
    "You’re going to say Stock B because it returned more. What if I told you Stock A has 10% volatility and Stock B has 70% volatility? Then it’s not so clear. The Sharpe ratio takes this into account. A Sharpe ratio over 1 is generally considered “good.”\n",
    "\n",
    "Here's what we'll do:\n",
    "\n",
    "    How to get stock price data\n",
    "    How to compute the Sharpe ratio\n",
    "    How to compare two investment options\n",
    "\n"
   ]
  },
  {
   "cell_type": "code",
   "execution_count": 2,
   "metadata": {},
   "outputs": [],
   "source": [
    "# Import the Code\n",
    "import numpy as np\n",
    "import pandas as pd\n",
    "\n",
    "from openbb_terminal.sdk import openbb"
   ]
  },
  {
   "cell_type": "markdown",
   "metadata": {},
   "source": [
    "With yfinance, you can download data for more than one stock at a time. Grab data for both SPY and AAPL. "
   ]
  },
  {
   "cell_type": "code",
   "execution_count": 5,
   "metadata": {},
   "outputs": [],
   "source": [
    "closed = openbb.economy.index([\"SPY\", \"AAPL\"], start_date = \"2020-01-01\", end_date = \"2022-07-31\")"
   ]
  },
  {
   "cell_type": "code",
   "execution_count": null,
   "metadata": {},
   "outputs": [],
   "source": []
  }
 ],
 "metadata": {
  "kernelspec": {
   "display_name": "quant_lab",
   "language": "python",
   "name": "python3"
  },
  "language_info": {
   "codemirror_mode": {
    "name": "ipython",
    "version": 3
   },
   "file_extension": ".py",
   "mimetype": "text/x-python",
   "name": "python",
   "nbconvert_exporter": "python",
   "pygments_lexer": "ipython3",
   "version": "3.9.13"
  },
  "orig_nbformat": 4
 },
 "nbformat": 4,
 "nbformat_minor": 2
}
