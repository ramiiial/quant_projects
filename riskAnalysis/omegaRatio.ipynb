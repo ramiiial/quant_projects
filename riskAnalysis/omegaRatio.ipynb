{
 "cells": [
  {
   "cell_type": "markdown",
   "metadata": {},
   "source": [
    "Import Libraries"
   ]
  },
  {
   "cell_type": "code",
   "execution_count": 20,
   "metadata": {},
   "outputs": [],
   "source": [
    "import numpy as np\n",
    "from openbb_terminal.sdk import openbb"
   ]
  },
  {
   "cell_type": "markdown",
   "metadata": {},
   "source": [
    "Gets requested data from OpenBB"
   ]
  },
  {
   "cell_type": "code",
   "execution_count": 21,
   "metadata": {},
   "outputs": [
    {
     "name": "stdout",
     "output_type": "stream",
     "text": [
      "Loading Daily data for AAPL with starting period 2010-01-04.\n"
     ]
    }
   ],
   "source": [
    "data = openbb.stocks.load(\"AAPL\", start_date = \"2010-01-01\", end_date = \"2021-12-31\")"
   ]
  },
  {
   "cell_type": "markdown",
   "metadata": {},
   "source": [
    "Capture Your Tail Risk With The Omega Ratio¶\n",
    "\n",
    "The Omega ratio is a weighted ratio of gains and losses above a threshold return. It captures more information about returns than similar metrics like the Sharpe ratio.\n",
    "\n",
    "It does this by adding up the area under the distribution around the threshold return. The area above the threshold measures the weight of the gains. The area below the threshold measures the weight of the losses. The Omega ratio is the positive area divided by the negative area."
   ]
  },
  {
   "cell_type": "markdown",
   "metadata": {},
   "source": [
    "Without Considering The Omega Ratio, You Miss Important Information About Risk.\n",
    "\n",
    "Sophisticated investors like hedge funds use the Omega ratio. They use it because alternative investments have long-tail risks not measured by other metrics like the Sharpe ratio. Even if you’re not investing in exotic derivatives, the Omega ratio is useful.\n",
    "\n",
    "A simple test shows us AAPL’s returns are not normally distributed.\n",
    "\n",
    "The skew (which measures symmetry) is -0.01. A normal distribution has skew of 0. The kurtosis (which measures outliers) is 5.3. A normal distribution has kurtosis of 3.\n",
    "\n",
    "Using performance metrics that don’t take the entire distribution into consideration misses important information about risk. "
   ]
  },
  {
   "cell_type": "code",
   "execution_count": 22,
   "metadata": {},
   "outputs": [],
   "source": [
    "returns = data[\"Adj Close\"].pct_change()"
   ]
  },
  {
   "cell_type": "code",
   "execution_count": 23,
   "metadata": {},
   "outputs": [
    {
     "data": {
      "text/plain": [
       "date\n",
       "2010-01-04         NaN\n",
       "2010-01-05    0.172888\n",
       "2010-01-06   -1.590639\n",
       "2010-01-07   -0.184871\n",
       "2010-01-08    0.664847\n",
       "                ...   \n",
       "2021-12-27    2.297480\n",
       "2021-12-28   -0.576727\n",
       "2021-12-29    0.050204\n",
       "2021-12-30   -0.657825\n",
       "2021-12-31   -0.353535\n",
       "Name: Adj Close, Length: 3021, dtype: float64"
      ]
     },
     "execution_count": 23,
     "metadata": {},
     "output_type": "execute_result"
    }
   ],
   "source": [
    "data[\"Adj Close\"].pct_change()*100"
   ]
  },
  {
   "cell_type": "markdown",
   "metadata": {},
   "source": [
    "Omega Ratio Function"
   ]
  },
  {
   "cell_type": "code",
   "execution_count": 24,
   "metadata": {},
   "outputs": [],
   "source": [
    "def omega_ratio(returns, required_return = 0.0):\n",
    "    \"\"\"Determines the Omega Ratio of a Strategy\n",
    "\n",
    "    Parameters\n",
    "    ----------\n",
    "    returns : pd.Series or np.ndarray\n",
    "        Daily returns of the strategy, noncumulative.\n",
    "    required_return : float, optional\n",
    "        Minimum acceptance return of the investor. Threshold over  which to\n",
    "        consider positive vs negative returns. It will be converted to a\n",
    "        value appropriate for the period of the returns. E.g. an annual minimum\n",
    "        acceptable return of 100 will translate to a minimum acceptable \n",
    "        return of 0.018.\n",
    "\n",
    "    Returns\n",
    "    -------\n",
    "    omega_ration : float\n",
    "\n",
    "    Note\n",
    "    ----\n",
    "    See https://en.wikipedia.org/wiki/Omega_ratio for more details.\n",
    "    \"\"\"\n",
    "\n",
    "    return_threshold = (1 + required_return) ** (1/252) - 1\n",
    "\n",
    "    returns_less_thresh = returns - return_threshold\n",
    "\n",
    "    numer = sum(returns_less_thresh[returns_less_thresh > 0.0])\n",
    "    denom =  -1.0 * sum(returns_less_thresh[returns_less_thresh < 0.0])\n",
    "\n",
    "    if denom > 0.0:\n",
    "        return numer / denom\n",
    "    else:\n",
    "        return np.nan"
   ]
  },
  {
   "cell_type": "markdown",
   "metadata": {},
   "source": [
    "What the Function Does\n",
    "First, annualize the return threshold. (The ** syntax in Python is the power operator i.e. 2**2 is 2 squared.) \n",
    "\n",
    "Then, subtract the threshold from the returns. \n",
    "\n",
    "Finally, add up the positive returns less the threshold and negative returns less the threshold.\n",
    "\n",
    "The Omega ratio is the sum of positive returns less the threshold divided by the sum of negative returns less the threshold.\n"
   ]
  },
  {
   "cell_type": "code",
   "execution_count": 25,
   "metadata": {},
   "outputs": [
    {
     "data": {
      "image/png": "[encoded data removed]",
      "text/plain": [
       "<Figure size 640x480 with 1 Axes>"
      ]
     },
     "metadata": {},
     "output_type": "display_data"
    }
   ],
   "source": [
    "returns.hist(bins = 50);"
   ]
  },
  {
   "cell_type": "code",
   "execution_count": 26,
   "metadata": {},
   "outputs": [
    {
     "data": {
      "text/plain": [
       "-0.10130174300693014"
      ]
     },
     "execution_count": 26,
     "metadata": {},
     "output_type": "execute_result"
    }
   ],
   "source": [
    "returns.skew()"
   ]
  },
  {
   "cell_type": "code",
   "execution_count": 27,
   "metadata": {},
   "outputs": [
    {
     "data": {
      "text/plain": [
       "5.7988276149705"
      ]
     },
     "execution_count": 27,
     "metadata": {},
     "output_type": "execute_result"
    }
   ],
   "source": [
    "returns.kurtosis()"
   ]
  },
  {
   "cell_type": "code",
   "execution_count": 28,
   "metadata": {},
   "outputs": [
    {
     "data": {
      "text/plain": [
       "1.171981002229222"
      ]
     },
     "execution_count": 28,
     "metadata": {},
     "output_type": "execute_result"
    }
   ],
   "source": [
    "omega_ratio(returns, 0.07)"
   ]
  }
 ],
 "metadata": {
  "kernelspec": {
   "display_name": "quant_lab",
   "language": "python",
   "name": "python3"
  },
  "language_info": {
   "codemirror_mode": {
    "name": "ipython",
    "version": 3
   },
   "file_extension": ".py",
   "mimetype": "text/x-python",
   "name": "python",
   "nbconvert_exporter": "python",
   "pygments_lexer": "ipython3",
   "version": "3.9.13"
  },
  "orig_nbformat": 4
 },
 "nbformat": 4,
 "nbformat_minor": 2
}
