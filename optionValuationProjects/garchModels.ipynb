{
 "cells": [
  {
   "cell_type": "code",
   "execution_count": 3,
   "id": "bd28a798",
   "metadata": {},
   "outputs": [],
   "source": [
    "import numpy as np"
   ]
  },
  {
   "cell_type": "code",
   "execution_count": 4,
   "id": "8623587d",
   "metadata": {},
   "outputs": [
    {
     "ename": "AttributeError",
     "evalue": "partially initialized module 'pytorch_lightning' has no attribute 'strategies' (most likely due to a circular import)",
     "output_type": "error",
     "traceback": [
      "\u001b[1;31m---------------------------------------------------------------------------\u001b[0m",
      "\u001b[1;31mAttributeError\u001b[0m                            Traceback (most recent call last)",
      "Cell \u001b[1;32mIn[4], line 1\u001b[0m\n\u001b[1;32m----> 1\u001b[0m \u001b[38;5;28;01mfrom\u001b[39;00m \u001b[38;5;21;01mopenbb_terminal\u001b[39;00m\u001b[38;5;21;01m.\u001b[39;00m\u001b[38;5;21;01msdk\u001b[39;00m \u001b[38;5;28;01mimport\u001b[39;00m openbb\n",
      "File \u001b[1;32mD:\\conda\\envs\\quant_lab\\lib\\site-packages\\openbb_terminal\\sdk.py:43\u001b[0m\n\u001b[0;32m     37\u001b[0m \u001b[38;5;28;01mfrom\u001b[39;00m \u001b[38;5;21;01mopenbb_terminal\u001b[39;00m\u001b[38;5;21;01m.\u001b[39;00m\u001b[38;5;21;01mreports\u001b[39;00m \u001b[38;5;28;01mimport\u001b[39;00m widget_helpers \u001b[38;5;28;01mas\u001b[39;00m widgets  \u001b[38;5;66;03m# noqa: F401\u001b[39;00m\n\u001b[0;32m     40\u001b[0m \u001b[38;5;28;01mfrom\u001b[39;00m \u001b[38;5;21;01mopenbb_terminal\u001b[39;00m\u001b[38;5;21;01m.\u001b[39;00m\u001b[38;5;21;01mreports\u001b[39;00m\u001b[38;5;21;01m.\u001b[39;00m\u001b[38;5;21;01mreports_controller\u001b[39;00m \u001b[38;5;28;01mimport\u001b[39;00m ReportController\n\u001b[1;32m---> 43\u001b[0m \u001b[38;5;28;01mimport\u001b[39;00m \u001b[38;5;21;01mopenbb_terminal\u001b[39;00m\u001b[38;5;21;01m.\u001b[39;00m\u001b[38;5;21;01mcore\u001b[39;00m\u001b[38;5;21;01m.\u001b[39;00m\u001b[38;5;21;01msdk\u001b[39;00m\u001b[38;5;21;01m.\u001b[39;00m\u001b[38;5;21;01msdk_init\u001b[39;00m \u001b[38;5;28;01mas\u001b[39;00m \u001b[38;5;21;01mlib\u001b[39;00m\n\u001b[0;32m     46\u001b[0m \u001b[38;5;28;01mfrom\u001b[39;00m \u001b[38;5;21;01mopenbb_terminal\u001b[39;00m\u001b[38;5;21;01m.\u001b[39;00m\u001b[38;5;21;01mcore\u001b[39;00m\u001b[38;5;21;01m.\u001b[39;00m\u001b[38;5;21;01msdk\u001b[39;00m \u001b[38;5;28;01mimport\u001b[39;00m (\n\u001b[0;32m     47\u001b[0m     controllers \u001b[38;5;28;01mas\u001b[39;00m ctrl,\n\u001b[0;32m     48\u001b[0m     models \u001b[38;5;28;01mas\u001b[39;00m model,\n\u001b[0;32m     49\u001b[0m )\n\u001b[0;32m     52\u001b[0m \u001b[38;5;28;01mfrom\u001b[39;00m \u001b[38;5;21;01mopenbb_terminal\u001b[39;00m\u001b[38;5;21;01m.\u001b[39;00m\u001b[38;5;21;01mcore\u001b[39;00m\u001b[38;5;21;01m.\u001b[39;00m\u001b[38;5;21;01msession\u001b[39;00m\u001b[38;5;21;01m.\u001b[39;00m\u001b[38;5;21;01mcurrent_system\u001b[39;00m \u001b[38;5;28;01mimport\u001b[39;00m get_current_system\n",
      "File \u001b[1;32mD:\\conda\\envs\\quant_lab\\lib\\site-packages\\openbb_terminal\\core\\sdk\\sdk_init.py:585\u001b[0m\n\u001b[0;32m    581\u001b[0m     \u001b[38;5;28;01mfrom\u001b[39;00m \u001b[38;5;21;01mdarts\u001b[39;00m \u001b[38;5;28;01mimport\u001b[39;00m utils\n\u001b[0;32m    583\u001b[0m     FORECASTING_TOOLKIT_ENABLED \u001b[38;5;241m=\u001b[39m \u001b[38;5;28;01mTrue\u001b[39;00m\n\u001b[1;32m--> 585\u001b[0m     \u001b[38;5;28;01mfrom\u001b[39;00m \u001b[38;5;21;01mopenbb_terminal\u001b[39;00m\u001b[38;5;21;01m.\u001b[39;00m\u001b[38;5;21;01mforecast\u001b[39;00m \u001b[38;5;28;01mimport\u001b[39;00m (\n\u001b[0;32m    586\u001b[0m         anom_model \u001b[38;5;28;01mas\u001b[39;00m forecast_anom_model,\n\u001b[0;32m    587\u001b[0m         anom_view \u001b[38;5;28;01mas\u001b[39;00m forecast_anom_view,\n\u001b[0;32m    588\u001b[0m         autoarima_model \u001b[38;5;28;01mas\u001b[39;00m forecast_autoarima_model,\n\u001b[0;32m    589\u001b[0m         autoarima_view \u001b[38;5;28;01mas\u001b[39;00m forecast_autoarima_view,\n\u001b[0;32m    590\u001b[0m         autoces_model \u001b[38;5;28;01mas\u001b[39;00m forecast_autoces_model,\n\u001b[0;32m    591\u001b[0m         autoces_view \u001b[38;5;28;01mas\u001b[39;00m forecast_autoces_view,\n\u001b[0;32m    592\u001b[0m         autoets_model \u001b[38;5;28;01mas\u001b[39;00m forecast_autoets_model,\n\u001b[0;32m    593\u001b[0m         autoets_view \u001b[38;5;28;01mas\u001b[39;00m forecast_autoets_view,\n\u001b[0;32m    594\u001b[0m         autoselect_model \u001b[38;5;28;01mas\u001b[39;00m forecast_autoselect_model,\n\u001b[0;32m    595\u001b[0m         autoselect_view \u001b[38;5;28;01mas\u001b[39;00m forecast_autoselect_view,\n\u001b[0;32m    596\u001b[0m         brnn_model \u001b[38;5;28;01mas\u001b[39;00m forecast_brnn_model,\n\u001b[0;32m    597\u001b[0m         brnn_view \u001b[38;5;28;01mas\u001b[39;00m forecast_brnn_view,\n\u001b[0;32m    598\u001b[0m         expo_model \u001b[38;5;28;01mas\u001b[39;00m forecast_expo_model,\n\u001b[0;32m    599\u001b[0m         expo_view \u001b[38;5;28;01mas\u001b[39;00m forecast_expo_view,\n\u001b[0;32m    600\u001b[0m         forecast_model,\n\u001b[0;32m    601\u001b[0m         forecast_view,\n\u001b[0;32m    602\u001b[0m         linregr_model \u001b[38;5;28;01mas\u001b[39;00m forecast_linregr_model,\n\u001b[0;32m    603\u001b[0m         linregr_view \u001b[38;5;28;01mas\u001b[39;00m forecast_linregr_view,\n\u001b[0;32m    604\u001b[0m         mstl_model \u001b[38;5;28;01mas\u001b[39;00m forecast_mstl_model,\n\u001b[0;32m    605\u001b[0m         mstl_view \u001b[38;5;28;01mas\u001b[39;00m forecast_mstl_view,\n\u001b[0;32m    606\u001b[0m         nbeats_model \u001b[38;5;28;01mas\u001b[39;00m forecast_nbeats_model,\n\u001b[0;32m    607\u001b[0m         nbeats_view \u001b[38;5;28;01mas\u001b[39;00m forecast_nbeats_view,\n\u001b[0;32m    608\u001b[0m         nhits_model \u001b[38;5;28;01mas\u001b[39;00m forecast_nhits_model,\n\u001b[0;32m    609\u001b[0m         nhits_view \u001b[38;5;28;01mas\u001b[39;00m forecast_nhits_view,\n\u001b[0;32m    610\u001b[0m         regr_model \u001b[38;5;28;01mas\u001b[39;00m forecast_regr_model,\n\u001b[0;32m    611\u001b[0m         regr_view \u001b[38;5;28;01mas\u001b[39;00m forecast_regr_view,\n\u001b[0;32m    612\u001b[0m         rnn_model \u001b[38;5;28;01mas\u001b[39;00m forecast_rnn_model,\n\u001b[0;32m    613\u001b[0m         rnn_view \u001b[38;5;28;01mas\u001b[39;00m forecast_rnn_view,\n\u001b[0;32m    614\u001b[0m         rwd_model \u001b[38;5;28;01mas\u001b[39;00m forecast_rwd_model,\n\u001b[0;32m    615\u001b[0m         rwd_view \u001b[38;5;28;01mas\u001b[39;00m forecast_rwd_view,\n\u001b[0;32m    616\u001b[0m         seasonalnaive_model \u001b[38;5;28;01mas\u001b[39;00m forecast_seasonalnaive_model,\n\u001b[0;32m    617\u001b[0m         seasonalnaive_view \u001b[38;5;28;01mas\u001b[39;00m forecast_seasonalnaive_view,\n\u001b[0;32m    618\u001b[0m         tcn_model \u001b[38;5;28;01mas\u001b[39;00m forecast_tcn_model,\n\u001b[0;32m    619\u001b[0m         tcn_view \u001b[38;5;28;01mas\u001b[39;00m forecast_tcn_view,\n\u001b[0;32m    620\u001b[0m         tft_model \u001b[38;5;28;01mas\u001b[39;00m forecast_tft_model,\n\u001b[0;32m    621\u001b[0m         tft_view \u001b[38;5;28;01mas\u001b[39;00m forecast_tft_view,\n\u001b[0;32m    622\u001b[0m         theta_model \u001b[38;5;28;01mas\u001b[39;00m forecast_theta_model,\n\u001b[0;32m    623\u001b[0m         theta_view \u001b[38;5;28;01mas\u001b[39;00m forecast_theta_view,\n\u001b[0;32m    624\u001b[0m         trans_model \u001b[38;5;28;01mas\u001b[39;00m forecast_trans_model,\n\u001b[0;32m    625\u001b[0m         trans_view \u001b[38;5;28;01mas\u001b[39;00m forecast_trans_view,\n\u001b[0;32m    626\u001b[0m         whisper_model \u001b[38;5;28;01mas\u001b[39;00m forecast_whisper_model,\n\u001b[0;32m    627\u001b[0m     )\n\u001b[0;32m    630\u001b[0m \u001b[38;5;28;01mexcept\u001b[39;00m \u001b[38;5;167;01mImportError\u001b[39;00m:\n\u001b[0;32m    631\u001b[0m     FORECASTING_TOOLKIT_ENABLED \u001b[38;5;241m=\u001b[39m \u001b[38;5;28;01mFalse\u001b[39;00m\n",
      "File \u001b[1;32mD:\\conda\\envs\\quant_lab\\lib\\site-packages\\openbb_terminal\\forecast\\anom_model.py:13\u001b[0m\n\u001b[0;32m     10\u001b[0m \u001b[38;5;28;01mfrom\u001b[39;00m \u001b[38;5;21;01mdarts\u001b[39;00m\u001b[38;5;21;01m.\u001b[39;00m\u001b[38;5;21;01mad\u001b[39;00m \u001b[38;5;28;01mimport\u001b[39;00m KMeansScorer, QuantileDetector\n\u001b[0;32m     12\u001b[0m \u001b[38;5;28;01mfrom\u001b[39;00m \u001b[38;5;21;01mopenbb_terminal\u001b[39;00m\u001b[38;5;21;01m.\u001b[39;00m\u001b[38;5;21;01mdecorators\u001b[39;00m \u001b[38;5;28;01mimport\u001b[39;00m log_start_end\n\u001b[1;32m---> 13\u001b[0m \u001b[38;5;28;01mfrom\u001b[39;00m \u001b[38;5;21;01mopenbb_terminal\u001b[39;00m\u001b[38;5;21;01m.\u001b[39;00m\u001b[38;5;21;01mforecast\u001b[39;00m \u001b[38;5;28;01mimport\u001b[39;00m helpers\n\u001b[0;32m     15\u001b[0m logger \u001b[38;5;241m=\u001b[39m logging\u001b[38;5;241m.\u001b[39mgetLogger(\u001b[38;5;18m__name__\u001b[39m)\n\u001b[0;32m     18\u001b[0m \u001b[38;5;129m@log_start_end\u001b[39m(log\u001b[38;5;241m=\u001b[39mlogger)\n\u001b[0;32m     19\u001b[0m \u001b[38;5;28;01mdef\u001b[39;00m \u001b[38;5;21mget_anomaly_detection_data\u001b[39m(\n\u001b[0;32m     20\u001b[0m     data: Union[pd\u001b[38;5;241m.\u001b[39mSeries, pd\u001b[38;5;241m.\u001b[39mDataFrame],\n\u001b[0;32m     21\u001b[0m     target_column: \u001b[38;5;28mstr\u001b[39m \u001b[38;5;241m=\u001b[39m \u001b[38;5;124m\"\u001b[39m\u001b[38;5;124mclose\u001b[39m\u001b[38;5;124m\"\u001b[39m,\n\u001b[0;32m     22\u001b[0m     train_split: \u001b[38;5;28mfloat\u001b[39m \u001b[38;5;241m=\u001b[39m \u001b[38;5;241m0.6\u001b[39m,\n\u001b[0;32m     23\u001b[0m ) \u001b[38;5;241m-\u001b[39m\u001b[38;5;241m>\u001b[39m Tuple[TimeSeries, List[TimeSeries], List[TimeSeries]]:\n",
      "File \u001b[1;32mD:\\conda\\envs\\quant_lab\\lib\\site-packages\\openbb_terminal\\forecast\\helpers.py:14\u001b[0m\n\u001b[0;32m     12\u001b[0m \u001b[38;5;28;01mfrom\u001b[39;00m \u001b[38;5;21;01mdarts\u001b[39;00m\u001b[38;5;21;01m.\u001b[39;00m\u001b[38;5;21;01mexplainability\u001b[39;00m\u001b[38;5;21;01m.\u001b[39;00m\u001b[38;5;21;01mshap_explainer\u001b[39;00m \u001b[38;5;28;01mimport\u001b[39;00m ShapExplainer\n\u001b[0;32m     13\u001b[0m \u001b[38;5;28;01mfrom\u001b[39;00m \u001b[38;5;21;01mdarts\u001b[39;00m\u001b[38;5;21;01m.\u001b[39;00m\u001b[38;5;21;01mmetrics\u001b[39;00m \u001b[38;5;28;01mimport\u001b[39;00m mape, mse, rmse, smape\n\u001b[1;32m---> 14\u001b[0m \u001b[38;5;28;01mfrom\u001b[39;00m \u001b[38;5;21;01mdarts\u001b[39;00m\u001b[38;5;21;01m.\u001b[39;00m\u001b[38;5;21;01mmodels\u001b[39;00m\u001b[38;5;21;01m.\u001b[39;00m\u001b[38;5;21;01mforecasting\u001b[39;00m\u001b[38;5;21;01m.\u001b[39;00m\u001b[38;5;21;01mtorch_forecasting_model\u001b[39;00m \u001b[38;5;28;01mimport\u001b[39;00m GlobalForecastingModel\n\u001b[0;32m     15\u001b[0m \u001b[38;5;28;01mfrom\u001b[39;00m \u001b[38;5;21;01mpytorch_lightning\u001b[39;00m\u001b[38;5;21;01m.\u001b[39;00m\u001b[38;5;21;01mcallbacks\u001b[39;00m\u001b[38;5;21;01m.\u001b[39;00m\u001b[38;5;21;01mearly_stopping\u001b[39;00m \u001b[38;5;28;01mimport\u001b[39;00m EarlyStopping\n\u001b[0;32m     16\u001b[0m \u001b[38;5;28;01mfrom\u001b[39;00m \u001b[38;5;21;01mshap\u001b[39;00m \u001b[38;5;28;01mimport\u001b[39;00m Explanation\n",
      "File \u001b[1;32mD:\\conda\\envs\\quant_lab\\lib\\site-packages\\darts\\models\\forecasting\\torch_forecasting_model.py:31\u001b[0m\n\u001b[0;32m     29\u001b[0m \u001b[38;5;28;01mimport\u001b[39;00m \u001b[38;5;21;01mnumpy\u001b[39;00m \u001b[38;5;28;01mas\u001b[39;00m \u001b[38;5;21;01mnp\u001b[39;00m\n\u001b[0;32m     30\u001b[0m \u001b[38;5;28;01mimport\u001b[39;00m \u001b[38;5;21;01mpandas\u001b[39;00m \u001b[38;5;28;01mas\u001b[39;00m \u001b[38;5;21;01mpd\u001b[39;00m\n\u001b[1;32m---> 31\u001b[0m \u001b[38;5;28;01mimport\u001b[39;00m \u001b[38;5;21;01mpytorch_lightning\u001b[39;00m \u001b[38;5;28;01mas\u001b[39;00m \u001b[38;5;21;01mpl\u001b[39;00m\n\u001b[0;32m     32\u001b[0m \u001b[38;5;28;01mimport\u001b[39;00m \u001b[38;5;21;01mtorch\u001b[39;00m\n\u001b[0;32m     33\u001b[0m \u001b[38;5;28;01mfrom\u001b[39;00m \u001b[38;5;21;01mpytorch_lightning\u001b[39;00m \u001b[38;5;28;01mimport\u001b[39;00m loggers \u001b[38;5;28;01mas\u001b[39;00m pl_loggers\n",
      "File \u001b[1;32mD:\\conda\\envs\\quant_lab\\lib\\site-packages\\pytorch_lightning\\__init__.py:30\u001b[0m\n\u001b[0;32m     27\u001b[0m     _logger\u001b[38;5;241m.\u001b[39maddHandler(logging\u001b[38;5;241m.\u001b[39mStreamHandler())\n\u001b[0;32m     28\u001b[0m     _logger\u001b[38;5;241m.\u001b[39mpropagate \u001b[38;5;241m=\u001b[39m \u001b[38;5;28;01mFalse\u001b[39;00m\n\u001b[1;32m---> 30\u001b[0m \u001b[38;5;28;01mfrom\u001b[39;00m \u001b[38;5;21;01mpytorch_lightning\u001b[39;00m\u001b[38;5;21;01m.\u001b[39;00m\u001b[38;5;21;01mcallbacks\u001b[39;00m \u001b[38;5;28;01mimport\u001b[39;00m Callback  \u001b[38;5;66;03m# noqa: E402\u001b[39;00m\n\u001b[0;32m     31\u001b[0m \u001b[38;5;28;01mfrom\u001b[39;00m \u001b[38;5;21;01mpytorch_lightning\u001b[39;00m\u001b[38;5;21;01m.\u001b[39;00m\u001b[38;5;21;01mcore\u001b[39;00m \u001b[38;5;28;01mimport\u001b[39;00m LightningDataModule, LightningModule  \u001b[38;5;66;03m# noqa: E402\u001b[39;00m\n\u001b[0;32m     32\u001b[0m \u001b[38;5;28;01mfrom\u001b[39;00m \u001b[38;5;21;01mpytorch_lightning\u001b[39;00m\u001b[38;5;21;01m.\u001b[39;00m\u001b[38;5;21;01mtrainer\u001b[39;00m \u001b[38;5;28;01mimport\u001b[39;00m Trainer  \u001b[38;5;66;03m# noqa: E402\u001b[39;00m\n",
      "File \u001b[1;32mD:\\conda\\envs\\quant_lab\\lib\\site-packages\\pytorch_lightning\\callbacks\\__init__.py:26\u001b[0m\n\u001b[0;32m     24\u001b[0m \u001b[38;5;28;01mfrom\u001b[39;00m \u001b[38;5;21;01mpytorch_lightning\u001b[39;00m\u001b[38;5;21;01m.\u001b[39;00m\u001b[38;5;21;01mcallbacks\u001b[39;00m\u001b[38;5;21;01m.\u001b[39;00m\u001b[38;5;21;01mprediction_writer\u001b[39;00m \u001b[38;5;28;01mimport\u001b[39;00m BasePredictionWriter\n\u001b[0;32m     25\u001b[0m \u001b[38;5;28;01mfrom\u001b[39;00m \u001b[38;5;21;01mpytorch_lightning\u001b[39;00m\u001b[38;5;21;01m.\u001b[39;00m\u001b[38;5;21;01mcallbacks\u001b[39;00m\u001b[38;5;21;01m.\u001b[39;00m\u001b[38;5;21;01mprogress\u001b[39;00m \u001b[38;5;28;01mimport\u001b[39;00m ProgressBar, ProgressBarBase, RichProgressBar, TQDMProgressBar\n\u001b[1;32m---> 26\u001b[0m \u001b[38;5;28;01mfrom\u001b[39;00m \u001b[38;5;21;01mpytorch_lightning\u001b[39;00m\u001b[38;5;21;01m.\u001b[39;00m\u001b[38;5;21;01mcallbacks\u001b[39;00m\u001b[38;5;21;01m.\u001b[39;00m\u001b[38;5;21;01mpruning\u001b[39;00m \u001b[38;5;28;01mimport\u001b[39;00m ModelPruning\n\u001b[0;32m     27\u001b[0m \u001b[38;5;28;01mfrom\u001b[39;00m \u001b[38;5;21;01mpytorch_lightning\u001b[39;00m\u001b[38;5;21;01m.\u001b[39;00m\u001b[38;5;21;01mcallbacks\u001b[39;00m\u001b[38;5;21;01m.\u001b[39;00m\u001b[38;5;21;01mquantization\u001b[39;00m \u001b[38;5;28;01mimport\u001b[39;00m QuantizationAwareTraining\n\u001b[0;32m     28\u001b[0m \u001b[38;5;28;01mfrom\u001b[39;00m \u001b[38;5;21;01mpytorch_lightning\u001b[39;00m\u001b[38;5;21;01m.\u001b[39;00m\u001b[38;5;21;01mcallbacks\u001b[39;00m\u001b[38;5;21;01m.\u001b[39;00m\u001b[38;5;21;01mrich_model_summary\u001b[39;00m \u001b[38;5;28;01mimport\u001b[39;00m RichModelSummary\n",
      "File \u001b[1;32mD:\\conda\\envs\\quant_lab\\lib\\site-packages\\pytorch_lightning\\callbacks\\pruning.py:31\u001b[0m\n\u001b[0;32m     29\u001b[0m \u001b[38;5;28;01mimport\u001b[39;00m \u001b[38;5;21;01mpytorch_lightning\u001b[39;00m \u001b[38;5;28;01mas\u001b[39;00m \u001b[38;5;21;01mpl\u001b[39;00m\n\u001b[0;32m     30\u001b[0m \u001b[38;5;28;01mfrom\u001b[39;00m \u001b[38;5;21;01mpytorch_lightning\u001b[39;00m\u001b[38;5;21;01m.\u001b[39;00m\u001b[38;5;21;01mcallbacks\u001b[39;00m\u001b[38;5;21;01m.\u001b[39;00m\u001b[38;5;21;01mbase\u001b[39;00m \u001b[38;5;28;01mimport\u001b[39;00m Callback\n\u001b[1;32m---> 31\u001b[0m \u001b[38;5;28;01mfrom\u001b[39;00m \u001b[38;5;21;01mpytorch_lightning\u001b[39;00m\u001b[38;5;21;01m.\u001b[39;00m\u001b[38;5;21;01mcore\u001b[39;00m\u001b[38;5;21;01m.\u001b[39;00m\u001b[38;5;21;01mlightning\u001b[39;00m \u001b[38;5;28;01mimport\u001b[39;00m LightningModule\n\u001b[0;32m     32\u001b[0m \u001b[38;5;28;01mfrom\u001b[39;00m \u001b[38;5;21;01mpytorch_lightning\u001b[39;00m\u001b[38;5;21;01m.\u001b[39;00m\u001b[38;5;21;01mutilities\u001b[39;00m\u001b[38;5;21;01m.\u001b[39;00m\u001b[38;5;21;01mapply_func\u001b[39;00m \u001b[38;5;28;01mimport\u001b[39;00m apply_to_collection\n\u001b[0;32m     33\u001b[0m \u001b[38;5;28;01mfrom\u001b[39;00m \u001b[38;5;21;01mpytorch_lightning\u001b[39;00m\u001b[38;5;21;01m.\u001b[39;00m\u001b[38;5;21;01mutilities\u001b[39;00m\u001b[38;5;21;01m.\u001b[39;00m\u001b[38;5;21;01mexceptions\u001b[39;00m \u001b[38;5;28;01mimport\u001b[39;00m MisconfigurationException\n",
      "File \u001b[1;32mD:\\conda\\envs\\quant_lab\\lib\\site-packages\\pytorch_lightning\\core\\__init__.py:16\u001b[0m\n\u001b[0;32m      1\u001b[0m \u001b[38;5;66;03m# Copyright The PyTorch Lightning team.\u001b[39;00m\n\u001b[0;32m      2\u001b[0m \u001b[38;5;66;03m#\u001b[39;00m\n\u001b[0;32m      3\u001b[0m \u001b[38;5;66;03m# Licensed under the Apache License, Version 2.0 (the \"License\");\u001b[39;00m\n\u001b[1;32m   (...)\u001b[0m\n\u001b[0;32m     12\u001b[0m \u001b[38;5;66;03m# See the License for the specific language governing permissions and\u001b[39;00m\n\u001b[0;32m     13\u001b[0m \u001b[38;5;66;03m# limitations under the License.\u001b[39;00m\n\u001b[0;32m     15\u001b[0m \u001b[38;5;28;01mfrom\u001b[39;00m \u001b[38;5;21;01mpytorch_lightning\u001b[39;00m\u001b[38;5;21;01m.\u001b[39;00m\u001b[38;5;21;01mcore\u001b[39;00m\u001b[38;5;21;01m.\u001b[39;00m\u001b[38;5;21;01mdatamodule\u001b[39;00m \u001b[38;5;28;01mimport\u001b[39;00m LightningDataModule\n\u001b[1;32m---> 16\u001b[0m \u001b[38;5;28;01mfrom\u001b[39;00m \u001b[38;5;21;01mpytorch_lightning\u001b[39;00m\u001b[38;5;21;01m.\u001b[39;00m\u001b[38;5;21;01mcore\u001b[39;00m\u001b[38;5;21;01m.\u001b[39;00m\u001b[38;5;21;01mlightning\u001b[39;00m \u001b[38;5;28;01mimport\u001b[39;00m LightningModule\n\u001b[0;32m     18\u001b[0m __all__ \u001b[38;5;241m=\u001b[39m [\u001b[38;5;124m\"\u001b[39m\u001b[38;5;124mLightningDataModule\u001b[39m\u001b[38;5;124m\"\u001b[39m, \u001b[38;5;124m\"\u001b[39m\u001b[38;5;124mLightningModule\u001b[39m\u001b[38;5;124m\"\u001b[39m]\n",
      "File \u001b[1;32mD:\\conda\\envs\\quant_lab\\lib\\site-packages\\pytorch_lightning\\core\\lightning.py:62\u001b[0m\n\u001b[0;32m     58\u001b[0m warning_cache \u001b[38;5;241m=\u001b[39m WarningCache()\n\u001b[0;32m     59\u001b[0m log \u001b[38;5;241m=\u001b[39m logging\u001b[38;5;241m.\u001b[39mgetLogger(\u001b[38;5;18m__name__\u001b[39m)\n\u001b[1;32m---> 62\u001b[0m \u001b[38;5;28;01mclass\u001b[39;00m \u001b[38;5;21;01mLightningModule\u001b[39;00m(\n\u001b[0;32m     63\u001b[0m     DeviceDtypeModuleMixin,\n\u001b[0;32m     64\u001b[0m     HyperparametersMixin,\n\u001b[0;32m     65\u001b[0m     ModelIO,\n\u001b[0;32m     66\u001b[0m     ModelHooks,\n\u001b[0;32m     67\u001b[0m     DataHooks,\n\u001b[0;32m     68\u001b[0m     CheckpointHooks,\n\u001b[0;32m     69\u001b[0m     Module,\n\u001b[0;32m     70\u001b[0m ):\n\u001b[0;32m     71\u001b[0m     \u001b[38;5;66;03m# Below is for property support of JIT\u001b[39;00m\n\u001b[0;32m     72\u001b[0m     \u001b[38;5;66;03m# since none of these are important when using JIT, we are going to ignore them.\u001b[39;00m\n\u001b[0;32m     73\u001b[0m     __jit_unused_properties__ \u001b[38;5;241m=\u001b[39m (\n\u001b[0;32m     74\u001b[0m         [\n\u001b[0;32m     75\u001b[0m             \u001b[38;5;124m\"\u001b[39m\u001b[38;5;124mexample_input_array\u001b[39m\u001b[38;5;124m\"\u001b[39m,\n\u001b[1;32m   (...)\u001b[0m\n\u001b[0;32m     89\u001b[0m         \u001b[38;5;241m+\u001b[39m HyperparametersMixin\u001b[38;5;241m.\u001b[39m__jit_unused_properties__\n\u001b[0;32m     90\u001b[0m     )\n\u001b[0;32m     92\u001b[0m     \u001b[38;5;28;01mdef\u001b[39;00m \u001b[38;5;21m__init__\u001b[39m(\u001b[38;5;28mself\u001b[39m, \u001b[38;5;241m*\u001b[39margs: Any, \u001b[38;5;241m*\u001b[39m\u001b[38;5;241m*\u001b[39mkwargs: Any) \u001b[38;5;241m-\u001b[39m\u001b[38;5;241m>\u001b[39m \u001b[38;5;28;01mNone\u001b[39;00m:\n",
      "File \u001b[1;32mD:\\conda\\envs\\quant_lab\\lib\\site-packages\\pytorch_lightning\\core\\lightning.py:2020\u001b[0m, in \u001b[0;36mLightningModule\u001b[1;34m()\u001b[0m\n\u001b[0;32m   2013\u001b[0m         rank_zero_deprecation(\n\u001b[0;32m   2014\u001b[0m             \u001b[38;5;124m\"\u001b[39m\u001b[38;5;124m`LightningModule.use_amp` was deprecated in v1.6 and will be removed in v1.8.\u001b[39m\u001b[38;5;124m\"\u001b[39m\n\u001b[0;32m   2015\u001b[0m             \u001b[38;5;124m\"\u001b[39m\u001b[38;5;124m Please use `Trainer.amp_backend`.\u001b[39m\u001b[38;5;124m\"\u001b[39m,\n\u001b[0;32m   2016\u001b[0m             stacklevel\u001b[38;5;241m=\u001b[39m\u001b[38;5;241m5\u001b[39m,\n\u001b[0;32m   2017\u001b[0m         )\n\u001b[0;32m   2018\u001b[0m     \u001b[38;5;28mself\u001b[39m\u001b[38;5;241m.\u001b[39m_use_amp \u001b[38;5;241m=\u001b[39m use_amp\n\u001b[1;32m-> 2020\u001b[0m \u001b[38;5;28;01mdef\u001b[39;00m \u001b[38;5;21madd_to_queue\u001b[39m(\u001b[38;5;28mself\u001b[39m, queue: \u001b[43mpl\u001b[49m\u001b[38;5;241;43m.\u001b[39;49m\u001b[43mstrategies\u001b[49m\u001b[38;5;241m.\u001b[39mlaunchers\u001b[38;5;241m.\u001b[39mspawn\u001b[38;5;241m.\u001b[39m_FakeQueue) \u001b[38;5;241m-\u001b[39m\u001b[38;5;241m>\u001b[39m \u001b[38;5;28;01mNone\u001b[39;00m:\n\u001b[0;32m   2021\u001b[0m \u001b[38;5;250m    \u001b[39m\u001b[38;5;124;03m\"\"\"Appends the :attr:`trainer.callback_metrics` dictionary to the given queue. To avoid issues with memory\u001b[39;00m\n\u001b[0;32m   2022\u001b[0m \u001b[38;5;124;03m    sharing, we cast the data to numpy.\u001b[39;00m\n\u001b[0;32m   2023\u001b[0m \n\u001b[1;32m   (...)\u001b[0m\n\u001b[0;32m   2028\u001b[0m \u001b[38;5;124;03m        This method was deprecated in v1.5 and will be removed in v1.7.\u001b[39;00m\n\u001b[0;32m   2029\u001b[0m \u001b[38;5;124;03m    \"\"\"\u001b[39;00m\n\u001b[0;32m   2031\u001b[0m \u001b[38;5;28;01mdef\u001b[39;00m \u001b[38;5;21mget_from_queue\u001b[39m(\u001b[38;5;28mself\u001b[39m, queue: pl\u001b[38;5;241m.\u001b[39mstrategies\u001b[38;5;241m.\u001b[39mlaunchers\u001b[38;5;241m.\u001b[39mspawn\u001b[38;5;241m.\u001b[39m_FakeQueue) \u001b[38;5;241m-\u001b[39m\u001b[38;5;241m>\u001b[39m \u001b[38;5;28;01mNone\u001b[39;00m:\n",
      "\u001b[1;31mAttributeError\u001b[0m: partially initialized module 'pytorch_lightning' has no attribute 'strategies' (most likely due to a circular import)"
     ]
    }
   ],
   "source": [
    "from openbb_terminal.sdk import openbb"
   ]
  },
  {
   "cell_type": "code",
   "execution_count": 5,
   "id": "ae2cd4b5",
   "metadata": {},
   "outputs": [],
   "source": [
    "from arch import arch_model"
   ]
  },
  {
   "cell_type": "code",
   "execution_count": 6,
   "id": "fda1778c",
   "metadata": {},
   "outputs": [],
   "source": [
    "import matplotlib.pyplot as plt"
   ]
  },
  {
   "cell_type": "code",
   "execution_count": 7,
   "id": "2ab3fd21",
   "metadata": {},
   "outputs": [
    {
     "ename": "NameError",
     "evalue": "name 'openbb' is not defined",
     "output_type": "error",
     "traceback": [
      "\u001b[1;31m---------------------------------------------------------------------------\u001b[0m",
      "\u001b[1;31mNameError\u001b[0m                                 Traceback (most recent call last)",
      "Cell \u001b[1;32mIn[7], line 1\u001b[0m\n\u001b[1;32m----> 1\u001b[0m data \u001b[38;5;241m=\u001b[39m \u001b[43mopenbb\u001b[49m\u001b[38;5;241m.\u001b[39mstocks\u001b[38;5;241m.\u001b[39mload(\u001b[38;5;124m\"\u001b[39m\u001b[38;5;124mTLT\u001b[39m\u001b[38;5;124m\"\u001b[39m, start_date \u001b[38;5;241m=\u001b[39m \u001b[38;5;124m\"\u001b[39m\u001b[38;5;124m 2020-01-01\u001b[39m\u001b[38;5;124m\"\u001b[39m, end_date \u001b[38;5;241m=\u001b[39m \u001b[38;5;124m\"\u001b[39m\u001b[38;5;124m2022-07-31\u001b[39m\u001b[38;5;124m\"\u001b[39m)\n",
      "\u001b[1;31mNameError\u001b[0m: name 'openbb' is not defined"
     ]
    }
   ],
   "source": [
    "data = openbb.stocks.load(\"TLT\", start_date = \" 2020-01-01\", end_date = \"2022-07-31\")"
   ]
  },
  {
   "cell_type": "code",
   "execution_count": null,
   "id": "0fc3e928",
   "metadata": {},
   "outputs": [],
   "source": [
    "type(data)"
   ]
  },
  {
   "cell_type": "code",
   "execution_count": null,
   "id": "ea061c7e",
   "metadata": {},
   "outputs": [],
   "source": [
    "data.head()"
   ]
  }
 ],
 "metadata": {
  "kernelspec": {
   "display_name": "Python 3 (ipykernel)",
   "language": "python",
   "name": "python3"
  },
  "language_info": {
   "codemirror_mode": {
    "name": "ipython",
    "version": 3
   },
   "file_extension": ".py",
   "mimetype": "text/x-python",
   "name": "python",
   "nbconvert_exporter": "python",
   "pygments_lexer": "ipython3",
   "version": "3.9.13"
  }
 },
 "nbformat": 4,
 "nbformat_minor": 5
}
