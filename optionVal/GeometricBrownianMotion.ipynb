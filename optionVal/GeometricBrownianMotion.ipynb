{
 "cells": [
  {
   "cell_type": "code",
   "execution_count": null,
   "metadata": {},
   "outputs": [],
   "source": [
    "# Brownian motion comes from physics. It describes the random movement of particles in a substance. A Wiener process is a one-dimentional Brownian motion. It’s named after Norbert Wiener who won a Nobel Prize studying one-dimentional Brownian motions.\n",
    "\n",
    "# The Wiener process features prominently in quantitative finance because of some useful mathemetical properties.\n",
    "\n",
    "# The GBM is a continuous-time stochastic process where where the log of the random variable follows the Wiener process with drift.\n",
    "\n",
    "# What?\n",
    "\n",
    "# It’s a data series that trends up or down through time with a defined level of volatility.\n",
    "\n",
    "# And it’s perfect for simulating stock prices."
   ]
  },
  {
   "cell_type": "code",
   "execution_count": 1,
   "metadata": {},
   "outputs": [],
   "source": [
    "import numpy as np\n",
    "import matplotlib.pyplot as plt\n",
    "# Since I’m simulating stock prices, \n",
    "# I don’t need to download data."
   ]
  },
  {
   "cell_type": "code",
   "execution_count": null,
   "metadata": {},
   "outputs": [],
   "source": [
    "# To simulate stock prices, we need some input parameters.\n",
    "s0 = 131.00             # Is the inital Stock Price\n",
    "sigma = 0.25            # Is percentage volatility\n",
    "mu = 0.35               # Is drift, sets overall trend\n",
    "\n",
    "# setup the simulation\n",
    "paths = 1000            # Sets number of simulations\n",
    "delta = 1.0 / 252.0     # Refers to time step, 1/252 \n",
    "                        # one day out of 252 days.\n",
    "\n",
    "time = 252 * 5          # Sets timeline for simulation\n",
    "                        # (Year * Number of years)\n",
    "\n",
    "                        "
   ]
  },
  {
   "cell_type": "code",
   "execution_count": 5,
   "metadata": {},
   "outputs": [],
   "source": [
    "# Builf the Wiener Proccess\n",
    "def weiner_process(delta, sigma, time, paths):\n",
    "    \"\"\"Returns a Wiener Process\n",
    "\n",
    "    Parameters\n",
    "    ~~~~~~~~~~\n",
    "    Delta: FLoat\n",
    "        The incriment to downsample sigma\n",
    "    Sigma: Float\n",
    "        Percentage Volatility\n",
    "    Time: Int\n",
    "        Number of samples to create\n",
    "    Paths: Int\n",
    "        Number of price simulations to create\n",
    "\n",
    "    Returns\n",
    "    ~~~~~~~\n",
    "    wiener_process : np.array\n",
    "\n",
    "    Notes\n",
    "    ~~~~~\n",
    "    This method returns a Wiener Process.\n",
    "    The Wiener process is also called Brownian\n",
    "    Motion. For more information about the \n",
    "    Wiener process check out the Wikipedia\n",
    "    page: http://en.wikipedia.org/wiki/Wiener_process\n",
    "    \"\"\"\n"
   ]
  },
  {
   "cell_type": "code",
   "execution_count": null,
   "metadata": {},
   "outputs": [],
   "source": []
  }
 ],
 "metadata": {
  "kernelspec": {
   "display_name": "quant_lab",
   "language": "python",
   "name": "python3"
  },
  "language_info": {
   "codemirror_mode": {
    "name": "ipython",
    "version": 3
   },
   "file_extension": ".py",
   "mimetype": "text/x-python",
   "name": "python",
   "nbconvert_exporter": "python",
   "pygments_lexer": "ipython3",
   "version": "3.9.13"
  },
  "orig_nbformat": 4
 },
 "nbformat": 4,
 "nbformat_minor": 2
}
